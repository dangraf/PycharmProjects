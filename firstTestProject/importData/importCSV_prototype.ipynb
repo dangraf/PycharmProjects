{
 "cells": [
  {
   "cell_type": "markdown",
   "metadata": {},
   "source": [
    "## Importing data\n",
    "read all data from timeframe\n"
   ]
  },
  {
   "cell_type": "code",
   "execution_count": 28,
   "metadata": {
    "collapsed": false
   },
   "outputs": [],
   "source": [
    "import pandas as pd\n",
    "import numpy as np\n",
    "from datetime import datetime"
   ]
  },
  {
   "cell_type": "markdown",
   "metadata": {},
   "source": [
    "Reads the CSV file into a dataframe"
   ]
  },
  {
   "cell_type": "code",
   "execution_count": 36,
   "metadata": {
    "collapsed": false
   },
   "outputs": [
    {
     "name": "stdout",
     "output_type": "stream",
     "text": [
      "    timestamp  price   volume\n",
      "0  1315922024   5.83   3.0000\n",
      "1  1315922029   5.90   1.0000\n",
      "2  1315922034   6.00  20.0000\n",
      "3  1315924373   5.95  12.4521\n",
      "4  1315924504   5.88   7.4580\n",
      "timestamp      int64\n",
      "price        float64\n",
      "volume       float64\n",
      "dtype: object\n"
     ]
    }
   ],
   "source": [
    "def readCsv(filename):\n",
    "    df = pd.read_csv(filename)\n",
    "    df.columns = ['timestamp','price','volume']\n",
    "    #df = df.set_index(['timestamp'])\n",
    "    return df\n",
    "\n",
    "df = readCsv('bitstampUSD.csv')\n",
    "print(df.head())\n",
    "print(df.dtypes)"
   ]
  },
  {
   "cell_type": "markdown",
   "metadata": {},
   "source": [
    "how to fill a dataframe if we have an interger as index"
   ]
  },
  {
   "cell_type": "code",
   "execution_count": 37,
   "metadata": {
    "collapsed": false
   },
   "outputs": [
    {
     "name": "stdout",
     "output_type": "stream",
     "text": [
      "    timestamp  price   volume\n",
      "0  1315922024   5.83   3.0000\n",
      "1  1315922029   5.90   1.0000\n",
      "2  1315922034   6.00  20.0000\n",
      "3  1315924373   5.95  12.4521\n",
      "4  1315924504   5.88   7.4580\n",
      "    timestamp  price   volume\n",
      "0  1315922024   5.83   3.0000\n",
      "1  1315922029   5.90   1.0000\n",
      "2  1315922034   6.00  20.0000\n",
      "3  1315924373   5.95  12.4521\n"
     ]
    }
   ],
   "source": [
    "def fillIndex(df_1):\n",
    "    mn = df_1.index[0]\n",
    "    mx = df_1.index[-1]\n",
    "    df_1 = df_1.reindex(range(mn,mx))\n",
    "    df_1['price'].ffill(inplace=True)\n",
    "    df_1['volume'].fillna(0,inplace=True)\n",
    "    return df_1\n",
    "\n",
    "temp = df.iloc[0:5].copy()\n",
    "print(temp.head())\n",
    "temp  =fillIndex(temp)\n",
    "print(temp.head())"
   ]
  },
  {
   "cell_type": "markdown",
   "metadata": {},
   "source": [
    "converting from timestamp to time-string and cutting early data since it's not important anymore"
   ]
  },
  {
   "cell_type": "code",
   "execution_count": 42,
   "metadata": {
    "collapsed": false
   },
   "outputs": [
    {
     "name": "stdout",
     "output_type": "stream",
     "text": [
      "                          price    volume\n",
      "datetime                                 \n",
      "2016-01-01 00:01:00  430.890000  0.080631\n",
      "2016-01-01 00:02:00  430.890000  0.143257\n",
      "2016-01-01 00:03:00  430.890000  0.000000\n",
      "2016-01-01 00:04:00  430.784000  1.032161\n",
      "2016-01-01 00:05:00  430.998333  5.558156\n"
     ]
    }
   ],
   "source": [
    "def convertTimestampToDatetime(df, usferq='1min'):\n",
    "    df['datetime'] = pd.to_datetime(df['timestamp'],unit='s')\n",
    "    newdf = df[ df['datetime']> datetime(2016,1,1)].set_index('datetime')\n",
    "    newdf = newdf.groupby(pd.TimeGrouper(freq='1Min')).agg({'price':np.mean,'volume':np.sum})\n",
    "    newdf['price'].ffill(inplace=True)\n",
    "    newdf['volume'].fillna(0,inplace=True)\n",
    "    return newdf\n",
    "df2 = convertTimestampToDatetime(df)\n",
    "print(df2.head())"
   ]
  },
  {
   "cell_type": "markdown",
   "metadata": {},
   "source": [
    "convert to matrix"
   ]
  },
  {
   "cell_type": "markdown",
   "metadata": {},
   "source": [
    "print(agg_10m.head())"
   ]
  },
  {
   "cell_type": "code",
   "execution_count": 47,
   "metadata": {
    "collapsed": false
   },
   "outputs": [
    {
     "name": "stdout",
     "output_type": "stream",
     "text": [
      "[[  5.83     3.    ]\n",
      " [  5.9      1.    ]\n",
      " [  6.      20.    ]\n",
      " [  5.95    12.4521]]\n"
     ]
    }
   ],
   "source": [
    "data = temp[['price','volume']].as_matrix()\n",
    "print(data)"
   ]
  },
  {
   "cell_type": "code",
   "execution_count": null,
   "metadata": {
    "collapsed": true
   },
   "outputs": [],
   "source": [
    ""
   ]
  }
 ],
 "metadata": {
  "anaconda-cloud": {},
  "kernelspec": {
   "display_name": "Python [conda root]",
   "language": "python",
   "name": "conda-root-py"
  },
  "language_info": {
   "codemirror_mode": {
    "name": "ipython",
    "version": 3.0
   },
   "file_extension": ".py",
   "mimetype": "text/x-python",
   "name": "python",
   "nbconvert_exporter": "python",
   "pygments_lexer": "ipython3",
   "version": "3.5.2"
  }
 },
 "nbformat": 4,
 "nbformat_minor": 0
}