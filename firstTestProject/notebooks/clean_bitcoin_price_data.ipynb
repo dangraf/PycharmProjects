{
 "cells": [
  {
   "cell_type": "code",
   "execution_count": 78,
   "metadata": {
    "collapsed": true
   },
   "outputs": [],
   "source": [
    "import numpy as np\n",
    "import pandas as pd\n",
    "import datetime\n",
    "import time\n",
    "\n",
    "import matplotlib.pyplot as plt\n",
    "%matplotlib inline\n"
   ]
  },
  {
   "cell_type": "markdown",
   "metadata": {},
   "source": [
    "# read data\n",
    "we are reading the dataframe and printing out head and tail of the frame to get a notion of how much data we are dealing with"
   ]
  },
  {
   "cell_type": "code",
   "execution_count": 3,
   "metadata": {
    "collapsed": false
   },
   "outputs": [],
   "source": [
    "df  = pd.read_csv('bitstampUSD_original.csv')"
   ]
  },
  {
   "cell_type": "code",
   "execution_count": 31,
   "metadata": {
    "collapsed": false
   },
   "outputs": [
    {
     "name": "stdout",
     "output_type": "stream",
     "text": [
      "    timestamp  price   volume\n",
      "0  1315922024   5.83   3.0000\n",
      "1  1315922029   5.90   1.0000\n",
      "2  1315922034   6.00  20.0000\n",
      "3  1315924373   5.95  12.4521\n",
      "4  1315924504   5.88   7.4580\n",
      "           timestamp    price    volume\n",
      "12368409  1499984555  2349.00  0.011628\n",
      "12368410  1499984555  2350.00  1.000000\n",
      "12368411  1499984557  2349.00  1.000000\n",
      "12368412  1499984593  2345.86  0.100000\n",
      "12368413  1499984604  2348.99  0.139533\n",
      "timestamp      int64\n",
      "price        float64\n",
      "volume       float64\n",
      "dtype: object\n"
     ]
    }
   ],
   "source": [
    "print( df.head() )\n",
    "print( df.tail() )\n",
    "print(df.dtypes)\n"
   ]
  },
  {
   "cell_type": "markdown",
   "metadata": {},
   "source": [
    "# hadnling time\n",
    "We need helper functions to convert from timestamp format to printed format and vise-verse to be able to cut out interesting parts of the dataset."
   ]
  },
  {
   "cell_type": "code",
   "execution_count": 28,
   "metadata": {
    "collapsed": false
   },
   "outputs": [
    {
     "name": "stdout",
     "output_type": "stream",
     "text": [
      "2011-09-13 15:53:44\n",
      "2017-07-14 00:23:24\n"
     ]
    }
   ],
   "source": [
    "\n",
    "def timestamp_to_datetime( timestamp ):\n",
    "    ret = datetime.datetime.fromtimestamp( int(timestamp) )\n",
    "    return ret\n",
    "\n",
    "def datetime_to_timestamp( myDateString ):\n",
    "    d_time= datetime.datetime.strptime(myDateString,\"%Y-%m-%d %H:%M:%S\")\n",
    "    return int( time.mktime(d_time.timetuple()))\n",
    "    \n",
    "df.columns = ['timestamp','price','volume']\n",
    "print(timestamp_to_datetime(df['timestamp'].iloc[0]))\n",
    "print(timestamp_to_datetime(df['timestamp'].iloc[-1]))\n"
   ]
  },
  {
   "cell_type": "code",
   "execution_count": 30,
   "metadata": {
    "collapsed": false
   },
   "outputs": [
    {
     "name": "stdout",
     "output_type": "stream",
     "text": [
      "1315922024\n",
      "1499984604\n"
     ]
    }
   ],
   "source": [
    "print(datetime_to_timestamp('2011-09-13 15:53:44'))\n",
    "print(datetime_to_timestamp('2017-07-14 00:23:24'))"
   ]
  },
  {
   "cell_type": "markdown",
   "metadata": {},
   "source": [
    "# cut data:\n",
    "We are currently only interested in the data for 2016 just to have something to play with. Data from 2017 can later be used for verification of the models we find for 2016."
   ]
  },
  {
   "cell_type": "code",
   "execution_count": 56,
   "metadata": {
    "collapsed": false
   },
   "outputs": [
    {
     "data": {
      "text/html": [
       "<div>\n",
       "<table border=\"1\" class=\"dataframe\">\n",
       "  <thead>\n",
       "    <tr style=\"text-align: right;\">\n",
       "      <th></th>\n",
       "      <th>timestamp</th>\n",
       "      <th>price</th>\n",
       "      <th>volume</th>\n",
       "    </tr>\n",
       "  </thead>\n",
       "  <tbody>\n",
       "    <tr>\n",
       "      <th>8547848</th>\n",
       "      <td>1.451603e+09</td>\n",
       "      <td>431.29</td>\n",
       "      <td>0.126287</td>\n",
       "    </tr>\n",
       "    <tr>\n",
       "      <th>8547849</th>\n",
       "      <td>1.451603e+09</td>\n",
       "      <td>431.04</td>\n",
       "      <td>0.067812</td>\n",
       "    </tr>\n",
       "    <tr>\n",
       "      <th>8547850</th>\n",
       "      <td>1.451603e+09</td>\n",
       "      <td>431.04</td>\n",
       "      <td>0.042022</td>\n",
       "    </tr>\n",
       "    <tr>\n",
       "      <th>8547851</th>\n",
       "      <td>1.451603e+09</td>\n",
       "      <td>430.34</td>\n",
       "      <td>0.538321</td>\n",
       "    </tr>\n",
       "    <tr>\n",
       "      <th>8547852</th>\n",
       "      <td>1.451603e+09</td>\n",
       "      <td>430.33</td>\n",
       "      <td>0.147512</td>\n",
       "    </tr>\n",
       "  </tbody>\n",
       "</table>\n",
       "</div>"
      ],
      "text/plain": [
       "            timestamp   price    volume\n",
       "8547848  1.451603e+09  431.29  0.126287\n",
       "8547849  1.451603e+09  431.04  0.067812\n",
       "8547850  1.451603e+09  431.04  0.042022\n",
       "8547851  1.451603e+09  430.34  0.538321\n",
       "8547852  1.451603e+09  430.33  0.147512"
      ]
     },
     "execution_count": 56,
     "metadata": {},
     "output_type": "execute_result"
    }
   ],
   "source": [
    "def slice_df_by_date(df_in, date_start, date_end):\n",
    "    timestamp_start = datetime_to_timestamp(date_start)\n",
    "    timestamp_end = datetime_to_timestamp(date_end)\n",
    "    df_out = df.where( df['timestamp']>timestamp_start )\n",
    "    df_out = df_out.where(df['timestamp']<timestamp_end )\n",
    "    df_out.dropna(inplace=True)\n",
    "    \n",
    "    return df_out\n",
    "    \n",
    "df_cut = slice_df_by_date(df,'2016-01-01 00:00:00','2017-01-01 00:00:00' )\n",
    "df_cut.head()"
   ]
  },
  {
   "cell_type": "markdown",
   "metadata": {},
   "source": [
    "df_cut.tail()\n"
   ]
  },
  {
   "cell_type": "code",
   "execution_count": 57,
   "metadata": {
    "collapsed": false
   },
   "outputs": [
    {
     "data": {
      "text/html": [
       "<div>\n",
       "<table border=\"1\" class=\"dataframe\">\n",
       "  <thead>\n",
       "    <tr style=\"text-align: right;\">\n",
       "      <th></th>\n",
       "      <th>volume</th>\n",
       "      <th>price</th>\n",
       "    </tr>\n",
       "    <tr>\n",
       "      <th>datetime</th>\n",
       "      <th></th>\n",
       "      <th></th>\n",
       "    </tr>\n",
       "  </thead>\n",
       "  <tbody>\n",
       "    <tr>\n",
       "      <th>2016-12-31 22:55:00</th>\n",
       "      <td>0.159594</td>\n",
       "      <td>964.000</td>\n",
       "    </tr>\n",
       "    <tr>\n",
       "      <th>2016-12-31 22:56:00</th>\n",
       "      <td>0.000000</td>\n",
       "      <td>964.000</td>\n",
       "    </tr>\n",
       "    <tr>\n",
       "      <th>2016-12-31 22:57:00</th>\n",
       "      <td>0.000000</td>\n",
       "      <td>964.000</td>\n",
       "    </tr>\n",
       "    <tr>\n",
       "      <th>2016-12-31 22:58:00</th>\n",
       "      <td>21.000000</td>\n",
       "      <td>963.580</td>\n",
       "    </tr>\n",
       "    <tr>\n",
       "      <th>2016-12-31 22:59:00</th>\n",
       "      <td>0.811275</td>\n",
       "      <td>963.986</td>\n",
       "    </tr>\n",
       "  </tbody>\n",
       "</table>\n",
       "</div>"
      ],
      "text/plain": [
       "                        volume    price\n",
       "datetime                               \n",
       "2016-12-31 22:55:00   0.159594  964.000\n",
       "2016-12-31 22:56:00   0.000000  964.000\n",
       "2016-12-31 22:57:00   0.000000  964.000\n",
       "2016-12-31 22:58:00  21.000000  963.580\n",
       "2016-12-31 22:59:00   0.811275  963.986"
      ]
     },
     "execution_count": 57,
     "metadata": {},
     "output_type": "execute_result"
    }
   ],
   "source": [
    " def groupByTime(df_in, groupFreqency ='1min'):\n",
    "    df_in['datetime'] = pd.to_datetime(df_in['timestamp'],unit='s')\n",
    "    df_out = df_in.set_index('datetime')\n",
    "    df_out = df_out.groupby(pd.TimeGrouper( groupFreqency) ).agg({'price':np.mean,'volume':np.sum})\n",
    "    df_out['price'].ffill(inplace=True)\n",
    "    df_out['volume'].fillna(0,inplace=True)\n",
    "    return df_out\n",
    "\n",
    "df_cut_grouped = groupByTime(df_cut)\n",
    "df_cut_grouped.tail()"
   ]
  },
  {
   "cell_type": "code",
   "execution_count": 58,
   "metadata": {
    "collapsed": true
   },
   "outputs": [],
   "source": [
    "df_cut_grouped['pct_change'] = df_cut_grouped['price'].pct_change()"
   ]
  },
  {
   "cell_type": "code",
   "execution_count": 61,
   "metadata": {
    "collapsed": false
   },
   "outputs": [
    {
     "data": {
      "text/html": [
       "<div>\n",
       "<table border=\"1\" class=\"dataframe\">\n",
       "  <thead>\n",
       "    <tr style=\"text-align: right;\">\n",
       "      <th></th>\n",
       "      <th>volume</th>\n",
       "      <th>price</th>\n",
       "      <th>pct_change</th>\n",
       "    </tr>\n",
       "    <tr>\n",
       "      <th>datetime</th>\n",
       "      <th></th>\n",
       "      <th></th>\n",
       "      <th></th>\n",
       "    </tr>\n",
       "  </thead>\n",
       "  <tbody>\n",
       "    <tr>\n",
       "      <th>2016-12-31 22:55:00</th>\n",
       "      <td>0.159594</td>\n",
       "      <td>964.000</td>\n",
       "      <td>0.000000</td>\n",
       "    </tr>\n",
       "    <tr>\n",
       "      <th>2016-12-31 22:56:00</th>\n",
       "      <td>0.000000</td>\n",
       "      <td>964.000</td>\n",
       "      <td>0.000000</td>\n",
       "    </tr>\n",
       "    <tr>\n",
       "      <th>2016-12-31 22:57:00</th>\n",
       "      <td>0.000000</td>\n",
       "      <td>964.000</td>\n",
       "      <td>0.000000</td>\n",
       "    </tr>\n",
       "    <tr>\n",
       "      <th>2016-12-31 22:58:00</th>\n",
       "      <td>21.000000</td>\n",
       "      <td>963.580</td>\n",
       "      <td>-0.000436</td>\n",
       "    </tr>\n",
       "    <tr>\n",
       "      <th>2016-12-31 22:59:00</th>\n",
       "      <td>0.811275</td>\n",
       "      <td>963.986</td>\n",
       "      <td>0.000421</td>\n",
       "    </tr>\n",
       "  </tbody>\n",
       "</table>\n",
       "</div>"
      ],
      "text/plain": [
       "                        volume    price  pct_change\n",
       "datetime                                           \n",
       "2016-12-31 22:55:00   0.159594  964.000    0.000000\n",
       "2016-12-31 22:56:00   0.000000  964.000    0.000000\n",
       "2016-12-31 22:57:00   0.000000  964.000    0.000000\n",
       "2016-12-31 22:58:00  21.000000  963.580   -0.000436\n",
       "2016-12-31 22:59:00   0.811275  963.986    0.000421"
      ]
     },
     "execution_count": 61,
     "metadata": {},
     "output_type": "execute_result"
    }
   ],
   "source": [
    "df_cut_grouped.tail()"
   ]
  },
  {
   "cell_type": "code",
   "execution_count": 128,
   "metadata": {
    "collapsed": false
   },
   "outputs": [
    {
     "data": {
      "text/plain": [
       "<matplotlib.axes._subplots.AxesSubplot at 0x7fa5925c3f60>"
      ]
     },
     "execution_count": 128,
     "metadata": {},
     "output_type": "execute_result"
    },
    {
     "data": {
      "image/png": "[encoded data removed]",
      "text/plain": [
       "<matplotlib.figure.Figure at 0x7fa592007c18>"
      ]
     },
     "metadata": {},
     "output_type": "display_data"
    }
   ],
   "source": [
    "plt.subplot(2,1,1)\n",
    "df_cut_grouped['pct_change'].plot(figsize=(14,4))\n",
    "plt.subplot(2,1,2)\n",
    "df_cut_grouped['price'].plot(figsize=(14,4))"
   ]
  },
  {
   "cell_type": "code",
   "execution_count": 87,
   "metadata": {
    "collapsed": false,
    "scrolled": true
   },
   "outputs": [
    {
     "data": {
      "text/plain": [
       "<matplotlib.axes._subplots.AxesSubplot at 0x7fa592276c18>"
      ]
     },
     "execution_count": 87,
     "metadata": {},
     "output_type": "execute_result"
    },
    {
     "data": {
      "image/png": "[encoded data removed]",
      "text/plain": [
       "<matplotlib.figure.Figure at 0x7fa5922b9c50>"
      ]
     },
     "metadata": {},
     "output_type": "display_data"
    }
   ],
   "source": [
    "\n",
    "df_cut_grouped['pct_change'].hist(bins = 201,figsize=(14,4))"
   ]
  },
  {
   "cell_type": "markdown",
   "metadata": {},
   "source": [
    "# wait period\n",
    "We konw that the cost is about 0.2% / trade for both selling and buying currencies.By calculating the standard deviation of the percent change per minute, we can see that in the price will change 0.2% in about 2 min and 23 seconds for 68% of all changes. \n"
   ]
  },
  {
   "cell_type": "code",
   "execution_count": 101,
   "metadata": {
    "collapsed": false
   },
   "outputs": [
    {
     "data": {
      "text/html": [
       "<div>\n",
       "<table border=\"1\" class=\"dataframe\">\n",
       "  <thead>\n",
       "    <tr style=\"text-align: right;\">\n",
       "      <th></th>\n",
       "      <th>volume</th>\n",
       "      <th>price</th>\n",
       "      <th>pct_change</th>\n",
       "    </tr>\n",
       "  </thead>\n",
       "  <tbody>\n",
       "    <tr>\n",
       "      <th>count</th>\n",
       "      <td>527035.000000</td>\n",
       "      <td>527035.000000</td>\n",
       "      <td>527035.000000</td>\n",
       "    </tr>\n",
       "    <tr>\n",
       "      <th>mean</th>\n",
       "      <td>3.780001</td>\n",
       "      <td>565.756297</td>\n",
       "      <td>0.000002</td>\n",
       "    </tr>\n",
       "    <tr>\n",
       "      <th>std</th>\n",
       "      <td>16.254794</td>\n",
       "      <td>137.303253</td>\n",
       "      <td>0.000933</td>\n",
       "    </tr>\n",
       "    <tr>\n",
       "      <th>min</th>\n",
       "      <td>0.000000</td>\n",
       "      <td>352.335385</td>\n",
       "      <td>-0.037154</td>\n",
       "    </tr>\n",
       "    <tr>\n",
       "      <th>25%</th>\n",
       "      <td>0.000000</td>\n",
       "      <td>430.542727</td>\n",
       "      <td>-0.000038</td>\n",
       "    </tr>\n",
       "    <tr>\n",
       "      <th>50%</th>\n",
       "      <td>0.173862</td>\n",
       "      <td>579.910000</td>\n",
       "      <td>0.000000</td>\n",
       "    </tr>\n",
       "    <tr>\n",
       "      <th>75%</th>\n",
       "      <td>1.566665</td>\n",
       "      <td>661.600000</td>\n",
       "      <td>0.000070</td>\n",
       "    </tr>\n",
       "    <tr>\n",
       "      <th>max</th>\n",
       "      <td>1430.761155</td>\n",
       "      <td>980.740000</td>\n",
       "      <td>0.038925</td>\n",
       "    </tr>\n",
       "  </tbody>\n",
       "</table>\n",
       "</div>"
      ],
      "text/plain": [
       "              volume          price     pct_change\n",
       "count  527035.000000  527035.000000  527035.000000\n",
       "mean        3.780001     565.756297       0.000002\n",
       "std        16.254794     137.303253       0.000933\n",
       "min         0.000000     352.335385      -0.037154\n",
       "25%         0.000000     430.542727      -0.000038\n",
       "50%         0.173862     579.910000       0.000000\n",
       "75%         1.566665     661.600000       0.000070\n",
       "max      1430.761155     980.740000       0.038925"
      ]
     },
     "execution_count": 101,
     "metadata": {},
     "output_type": "execute_result"
    }
   ],
   "source": [
    "df_cut_grouped.dropna(inplace=True)\n",
    "desc = df_cut_grouped.describe()\n",
    "desc"
   ]
  },
  {
   "cell_type": "code",
   "execution_count": 104,
   "metadata": {
    "collapsed": false
   },
   "outputs": [
    {
     "name": "stdout",
     "output_type": "stream",
     "text": [
      "percent change per minute: 2.14410518714\n",
      "print, every 2 min and  0.23333333333333336 seconds\n"
     ]
    }
   ],
   "source": [
    "print('percent change per minute:' , 0.002/desc['pct_change']['std'])\n",
    "print('print, every 2 min and ', 0.14*100/60, 'seconds')"
   ]
  },
  {
   "cell_type": "code",
   "execution_count": 126,
   "metadata": {
    "collapsed": false
   },
   "outputs": [
    {
     "name": "stdout",
     "output_type": "stream",
     "text": [
      "startprice 418.8175 endprice 429.05\n",
      "pricechange: 0.0244318826219\n"
     ]
    },
    {
     "data": {
      "text/plain": [
       "0.02370045670959775"
      ]
     },
     "execution_count": 126,
     "metadata": {},
     "output_type": "execute_result"
    }
   ],
   "source": [
    "start_idx = 72000\n",
    "end_idx = 73001\n",
    "\n",
    "print( 'startprice', df_cut_grouped['price'].iloc[start_idx],'endprice',df_cut_grouped['price'].iloc[end_idx])\n",
    "pricechange = (df_cut_grouped['price'].iloc[end_idx] - df_cut_grouped['price'].iloc[start_idx])/df_cut_grouped['price'].iloc[start_idx]\n",
    "print('pricechange:',pricechange )\n",
    "\n",
    "\n",
    "df_cut_grouped['pct_change'].iloc[start_idx:end_idx].sum()\n"
   ]
  },
  {
   "cell_type": "markdown",
   "metadata": {},
   "source": [
    "So, we can use the sum() function to approximate the gain/loss. There is a drift ofcause because we don't calculate the cumulative product. eg, if we in first sample gain 10% and in next gain another 10% we should end up 1.1 x 1.1 = 1.21. but since we calculate the sum, we will only gain gain 20% not 21 as for real."
   ]
  },
  {
   "cell_type": "code",
   "execution_count": 129,
   "metadata": {
    "collapsed": false
   },
   "outputs": [
    {
     "data": {
      "text/plain": [
       "pandas.core.frame.DataFrame"
      ]
     },
     "execution_count": 129,
     "metadata": {},
     "output_type": "execute_result"
    }
   ],
   "source": [
    "type(df)"
   ]
  },
  {
   "cell_type": "code",
   "execution_count": 130,
   "metadata": {
    "collapsed": false
   },
   "outputs": [
    {
     "data": {
      "text/plain": [
       "int"
      ]
     },
     "execution_count": 130,
     "metadata": {},
     "output_type": "execute_result"
    }
   ],
   "source": [
    "a = 10\n",
    "type(a)"
   ]
  },
  {
   "cell_type": "code",
   "execution_count": null,
   "metadata": {
    "collapsed": true
   },
   "outputs": [],
   "source": []
  }
 ],
 "metadata": {
  "anaconda-cloud": {},
  "kernelspec": {
   "display_name": "Python [conda root]",
   "language": "python",
   "name": "conda-root-py"
  },
  "language_info": {
   "codemirror_mode": {
    "name": "ipython",
    "version": 3
   },
   "file_extension": ".py",
   "mimetype": "text/x-python",
   "name": "python",
   "nbconvert_exporter": "python",
   "pygments_lexer": "ipython3",
   "version": "3.5.2"
  }
 },
 "nbformat": 4,
 "nbformat_minor": 1
}
