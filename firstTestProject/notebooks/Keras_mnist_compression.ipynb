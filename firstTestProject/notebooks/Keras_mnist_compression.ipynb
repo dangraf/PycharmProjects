{
 "cells": [
  {
   "cell_type": "markdown",
   "metadata": {},
   "source": [
    "# Load mnist data and create datasets"
   ]
  },
  {
   "cell_type": "code",
   "execution_count": 3,
   "metadata": {
    "collapsed": false
   },
   "outputs": [
    {
     "name": "stdout",
     "output_type": "stream",
     "text": [
      "(60000, 784)\n",
      "(10000, 784)\n"
     ]
    }
   ],
   "source": [
    "from keras.datasets import mnist\n",
    "import numpy as np\n",
    "\n",
    "(x_train, _), (x_test, _) = mnist.load_data()\n",
    "x_train = x_train.astype('float32') / 255.\n",
    "x_test = x_test.astype('float32') / 255.\n",
    "x_train = x_train.reshape((len(x_train), np.prod(x_train.shape[1:])))\n",
    "x_test = x_test.reshape((len(x_test), np.prod(x_test.shape[1:])))\n",
    "\n",
    "print( x_train.shape )\n",
    "print( x_test.shape )"
   ]
  },
  {
   "cell_type": "markdown",
   "metadata": {},
   "source": [
    "# Create Model"
   ]
  },
  {
   "cell_type": "code",
   "execution_count": 22,
   "metadata": {
    "collapsed": true
   },
   "outputs": [],
   "source": [
    "from keras.layers import Input, Dense\n",
    "from keras.models import Model\n",
    "\n",
    "# this is the size of our encoded representations\n",
    "encoding_dim = 32  # 32 floats -> compression of factor 24.5, assuming the input is 784 floats\n",
    "\n",
    "\n",
    "input_img = Input(shape=(784,))\n",
    "encoded = Dense(128, activation='relu')(input_img)\n",
    "encoded = Dense(64, activation='relu')(encoded)\n",
    "encoded = Dense(32, activation='relu')(encoded)\n",
    "\n",
    "decoded = Dense(64, activation='relu',name='hejhopp')(encoded)\n",
    "decoded = Dense(128, activation='relu')(decoded)\n",
    "decoded = Dense(784, activation='sigmoid')(decoded)\n",
    "\n",
    "autoencoder = Model(input_img, decoded)\n",
    "autoencoder.compile(optimizer='Adadelta', loss='binary_crossentropy')"
   ]
  },
  {
   "cell_type": "markdown",
   "metadata": {},
   "source": [
    "# show model"
   ]
  },
  {
   "cell_type": "code",
   "execution_count": null,
   "metadata": {
    "collapsed": true
   },
   "outputs": [],
   "source": [
    "from IPython.display import SVG\n",
    "from keras.utils.vis_utils import model_to_dot\n",
    "\n",
    "SVG(model_to_dot(autoencoder,show_shapes=True).create(prog='dot', format='svg'))"
   ]
  },
  {
   "cell_type": "markdown",
   "metadata": {},
   "source": [
    "# Train"
   ]
  },
  {
   "cell_type": "code",
   "execution_count": 23,
   "metadata": {
    "collapsed": false
   },
   "outputs": [
    {
     "name": "stdout",
     "output_type": "stream",
     "text": [
      "Train on 60000 samples, validate on 10000 samples\n",
      "Epoch 1/20\n",
      "60000/60000 [==============================] - 5s - loss: 0.3578 - val_loss: 0.2642\n",
      "Epoch 2/20\n",
      "60000/60000 [==============================] - 5s - loss: 0.2583 - val_loss: 0.2512\n",
      "Epoch 3/20\n",
      "60000/60000 [==============================] - 5s - loss: 0.2402 - val_loss: 0.2280\n",
      "Epoch 4/20\n",
      "60000/60000 [==============================] - 5s - loss: 0.2225 - val_loss: 0.2142\n",
      "Epoch 5/20\n",
      "60000/60000 [==============================] - 6s - loss: 0.2099 - val_loss: 0.2025\n",
      "Epoch 6/20\n",
      "60000/60000 [==============================] - 5s - loss: 0.1995 - val_loss: 0.1936\n",
      "Epoch 7/20\n",
      "60000/60000 [==============================] - 5s - loss: 0.1902 - val_loss: 0.1841\n",
      "Epoch 8/20\n",
      "60000/60000 [==============================] - 5s - loss: 0.1815 - val_loss: 0.1769\n",
      "Epoch 9/20\n",
      "60000/60000 [==============================] - 5s - loss: 0.1758 - val_loss: 0.1718\n",
      "Epoch 10/20\n",
      "60000/60000 [==============================] - 5s - loss: 0.1711 - val_loss: 0.1673\n",
      "Epoch 11/20\n",
      "60000/60000 [==============================] - 5s - loss: 0.1666 - val_loss: 0.1623\n",
      "Epoch 12/20\n",
      "60000/60000 [==============================] - 5s - loss: 0.1620 - val_loss: 0.1580\n",
      "Epoch 13/20\n",
      "60000/60000 [==============================] - 5s - loss: 0.1580 - val_loss: 0.1556\n",
      "Epoch 14/20\n",
      "60000/60000 [==============================] - 5s - loss: 0.1543 - val_loss: 0.1518\n",
      "Epoch 15/20\n",
      "60000/60000 [==============================] - 5s - loss: 0.1513 - val_loss: 0.1496\n",
      "Epoch 16/20\n",
      "60000/60000 [==============================] - 5s - loss: 0.1488 - val_loss: 0.1462\n",
      "Epoch 17/20\n",
      "60000/60000 [==============================] - 5s - loss: 0.1465 - val_loss: 0.1435\n",
      "Epoch 18/20\n",
      "60000/60000 [==============================] - 5s - loss: 0.1444 - val_loss: 0.1416\n",
      "Epoch 19/20\n",
      "60000/60000 [==============================] - 5s - loss: 0.1424 - val_loss: 0.1410\n",
      "Epoch 20/20\n",
      "60000/60000 [==============================] - 5s - loss: 0.1408 - val_loss: 0.1384\n"
     ]
    },
    {
     "data": {
      "text/plain": [
       "<keras.callbacks.History at 0x7f0e04e27c88>"
      ]
     },
     "execution_count": 23,
     "metadata": {},
     "output_type": "execute_result"
    }
   ],
   "source": [
    "\n",
    "autoencoder.fit(x_train, x_train,\n",
    "                epochs=20,\n",
    "                batch_size=256,\n",
    "                shuffle=True,\n",
    "                validation_data=(x_test, x_test))"
   ]
  },
  {
   "cell_type": "markdown",
   "metadata": {},
   "source": [
    "elu: 20 epoc  5s - loss: 0.1378 - val_loss: 0.1366"
   ]
  }
 ],
 "metadata": {
  "anaconda-cloud": {},
  "kernelspec": {
   "display_name": "Python [conda root]",
   "language": "python",
   "name": "conda-root-py"
  },
  "language_info": {
   "codemirror_mode": {
    "name": "ipython",
    "version": 3
   },
   "file_extension": ".py",
   "mimetype": "text/x-python",
   "name": "python",
   "nbconvert_exporter": "python",
   "pygments_lexer": "ipython3",
   "version": "3.5.2"
  }
 },
 "nbformat": 4,
 "nbformat_minor": 1
}
