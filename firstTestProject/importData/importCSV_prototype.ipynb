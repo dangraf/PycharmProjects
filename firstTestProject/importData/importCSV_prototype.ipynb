{
 "cells": [
  {
   "cell_type": "markdown",
   "metadata": {},
   "source": [
    "## Importing data\n",
    "read all data from timeframe\n"
   ]
  },
  {
   "cell_type": "code",
   "execution_count": 1,
   "metadata": {
    "collapsed": false
   },
   "outputs": [
    {
     "name": "stdout",
     "output_type": "stream",
     "text": [
      "   1315922016  5.800000000000  1.000000000000\n",
      "0  1315922024            5.83          3.0000\n",
      "1  1315922029            5.90          1.0000\n",
      "2  1315922034            6.00         20.0000\n",
      "3  1315924373            5.95         12.4521\n",
      "4  1315924504            5.88          7.4580\n"
     ]
    }
   ],
   "source": [
    "import pandas as pd\n",
    "import numpy as np\n",
    "\n",
    "\n",
    "df = pd.read_csv('bitstampUSD.csv')\n",
    "print(df.head())"
   ]
  },
  {
   "cell_type": "markdown",
   "metadata": {},
   "source": [
    "setting columns and checking types"
   ]
  },
  {
   "cell_type": "code",
   "execution_count": 10,
   "metadata": {
    "collapsed": false
   },
   "outputs": [
    {
     "name": "stdout",
     "output_type": "stream",
     "text": [
      "timestamp      int64\n",
      "price        float64\n",
      "volume       float64\n",
      "dtype: object\n"
     ]
    }
   ],
   "source": [
    "df.columns = ['timestamp','price','volume']\n",
    "df.head()\n",
    "print(df.dtypes)"
   ]
  },
  {
   "cell_type": "markdown",
   "metadata": {},
   "source": [
    "converting from timestamp to time-string and cutting early data since it's not important anymore"
   ]
  },
  {
   "cell_type": "code",
   "execution_count": 15,
   "metadata": {
    "collapsed": false
   },
   "outputs": [],
   "source": [
    "df['datetime'] = pd.to_datetime(df['timestamp'],unit='s')"
   ]
  },
  {
   "cell_type": "code",
   "execution_count": 39,
   "metadata": {
    "collapsed": false
   },
   "outputs": [
    {
     "name": "stdout",
     "output_type": "stream",
     "text": [
      "                      timestamp   price    volume\n",
      "datetime                                         \n",
      "2016-01-01 00:01:00  1451606460  430.89  0.080631\n",
      "2016-01-01 00:02:13  1451606533  430.89  0.096757\n",
      "2016-01-01 00:02:46  1451606566  430.89  0.046500\n",
      "2016-01-01 00:04:32  1451606672  430.19  0.200000\n",
      "2016-01-01 00:04:36  1451606676  430.89  0.432161\n",
      "                        volume       price\n",
      "datetime                                  \n",
      "2016-01-01 00:00:00  12.127920  431.432059\n",
      "2016-01-01 00:10:00   3.319905  432.208667\n",
      "2016-01-01 00:20:00   4.884241  431.940000\n",
      "2016-01-01 00:30:00  12.589255  431.681034\n",
      "2016-01-01 00:40:00   2.582112  430.831765\n"
     ]
    }
   ],
   "source": [
    "from datetime import datetime\n",
    "newdf = df[ df['datetime']> datetime(2016,1,1)].set_index('datetime')\n",
    "print(newdf.head())\n",
    "agg_10m = newdf.groupby(pd.TimeGrouper(freq='10Min')).agg({'price':np.mean,'volume':np.sum})\n",
    "print(agg_10m.head())"
   ]
  },
  {
   "cell_type": "markdown",
   "metadata": {},
   "source": [
    "print(agg_10m.head())"
   ]
  },
  {
   "cell_type": "code",
   "execution_count": null,
   "metadata": {
    "collapsed": true
   },
   "outputs": [],
   "source": [
    "todo, make sure we have all timestamps we need and use ffil to and fillzero to get correct volumes and prices"
   ]
  }
 ],
 "metadata": {
  "anaconda-cloud": {},
  "kernelspec": {
   "display_name": "Python [conda root]",
   "language": "python",
   "name": "conda-root-py"
  },
  "language_info": {
   "codemirror_mode": {
    "name": "ipython",
    "version": 3
   },
   "file_extension": ".py",
   "mimetype": "text/x-python",
   "name": "python",
   "nbconvert_exporter": "python",
   "pygments_lexer": "ipython3",
   "version": "3.5.2"
  }
 },
 "nbformat": 4,
 "nbformat_minor": 1
}
